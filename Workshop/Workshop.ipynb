{
 "cells": [
  {
   "cell_type": "markdown",
   "metadata": {},
   "source": [
    "# K-means Clustering\n",
    "There are many clustering algorithms, but perhaps the simplest to understand is an algorithm k-means clustering."
   ]
  },
  {
   "cell_type": "code",
   "execution_count": 2,
   "metadata": {},
   "outputs": [],
   "source": [
    "# standard imports\n",
    "import warnings; warnings.filterwarnings('ignore')\n",
    "import matplotlib.pyplot as plt\n",
    "import seaborn as sns; sns.set() # for plot styling\n",
    "import numpy as np\n",
    "import pandas as pd\n",
    "%matplotlib inline # to show plots inside the notebook"
   ]
  },
  {
   "cell_type": "markdown",
   "metadata": {},
   "source": [
    "# Example: Clustering Talents\n",
    "## Loading the data"
   ]
  },
  {
   "cell_type": "code",
   "execution_count": 3,
   "metadata": {},
   "outputs": [],
   "source": [
    "# loading the data the data \n",
    "# load csv file from disk\n",
    "# data.head()"
   ]
  },
  {
   "cell_type": "markdown",
   "metadata": {},
   "source": [
    "## Data cleaning and preprocessing\n",
    "### Remove unneeded columns"
   ]
  },
  {
   "cell_type": "code",
   "execution_count": 2,
   "metadata": {},
   "outputs": [],
   "source": [
    "# remove unneeded columns\n",
    "# data = data.drop(axis=, columns=)\n",
    "# data.head()"
   ]
  },
  {
   "cell_type": "markdown",
   "metadata": {},
   "source": [
    "### Remove % symbols"
   ]
  },
  {
   "cell_type": "code",
   "execution_count": 3,
   "metadata": {},
   "outputs": [],
   "source": [
    "# data['Avg View Through Rate'] = [x.strip('%') for x in data['Avg View Through Rate']]\n",
    "# data['Avg Engagement Rate'] = [x.strip('%') for x in data['Avg Engagement Rate']]\n",
    "# data.head()"
   ]
  },
  {
   "cell_type": "markdown",
   "metadata": {},
   "source": [
    "### Change averages from strings to numberic data"
   ]
  },
  {
   "cell_type": "code",
   "execution_count": 4,
   "metadata": {},
   "outputs": [],
   "source": [
    "# data['Avg View Through Rate'] = pd.to_numeric(data['Avg View Through Rate'])\n",
    "# data['Avg Engagement Rate'] = pd.to_numeric(data['Avg Engagement Rate'])\n",
    "# data.head()"
   ]
  },
  {
   "cell_type": "markdown",
   "metadata": {},
   "source": [
    "### Filter Engagement and View Through rate"
   ]
  },
  {
   "cell_type": "code",
   "execution_count": 5,
   "metadata": {},
   "outputs": [],
   "source": [
    "# data = data.loc[(data['followers'] <= 1000000)]\n",
    "# data = data.loc[(data['Avg View Through Rate'] <= 300)]"
   ]
  },
  {
   "cell_type": "code",
   "execution_count": 6,
   "metadata": {},
   "outputs": [],
   "source": [
    "# print data shape (dimensions)\n",
    "# print(data.shape)\n",
    "# data.head()"
   ]
  },
  {
   "cell_type": "markdown",
   "metadata": {},
   "source": [
    "## K-means"
   ]
  },
  {
   "cell_type": "code",
   "execution_count": 7,
   "metadata": {},
   "outputs": [],
   "source": [
    "from sklearn.cluster import k_means"
   ]
  },
  {
   "cell_type": "code",
   "execution_count": 8,
   "metadata": {},
   "outputs": [],
   "source": [
    "# init k-means, set number of clusters\n",
    "# model = kmeans.fit(data)"
   ]
  },
  {
   "cell_type": "markdown",
   "metadata": {},
   "source": [
    "### Plotting Results\n",
    "#### Followers vs Avg Engagement"
   ]
  },
  {
   "cell_type": "code",
   "execution_count": null,
   "metadata": {},
   "outputs": [],
   "source": [
    "plt.yticks(np.arange(0, 30, step=10))\n",
    "plt.xticks(np.arange(0, 1000000, step=200000))\n",
    "plt.xlabel(\"Number of followers\")\n",
    "plt.ylabel(\"Avg Engagement Rate\")\n",
    "# plot followers vs avg engagement rate\n",
    "plt.scatter(data.followers, data['Avg Engagement Rate'], c=kmeans.labels_.astype(float), s=50, alpha=0.5)"
   ]
  },
  {
   "cell_type": "markdown",
   "metadata": {},
   "source": [
    "#### Followers vs Avg View Through Rate"
   ]
  },
  {
   "cell_type": "code",
   "execution_count": null,
   "metadata": {},
   "outputs": [],
   "source": [
    "centroids = kmeans.cluster_centers_\n",
    "print(centroids)\n",
    "plt.yticks(np.arange(0, 350, step=100))\n",
    "plt.xticks(np.arange(0, 1000000, step=200000))\n",
    "plt.xlabel(\"Number of followers\")\n",
    "plt.ylabel(\"Avg View Through Rate\")\n",
    "plt.scatter(data.followers, data['Avg View Through Rate'], c=kmeans.labels_.astype(float), s=50, alpha=0.5)\n",
    "plt.scatter(centroids[:, 0], centroids[:, 1], c='red', s=50)"
   ]
  },
  {
   "cell_type": "markdown",
   "metadata": {},
   "source": [
    "### 3D Plot"
   ]
  },
  {
   "cell_type": "code",
   "execution_count": null,
   "metadata": {},
   "outputs": [],
   "source": [
    "from mpl_toolkits import mplot3d\n",
    "ax = plt.axes(projection='3d')\n",
    "plt.xlabel('number of followers')\n",
    "plt.ylabel('Avg View Through Rate')\n",
    "plt.title('Talents Clustering')\n",
    "ax.scatter3D(data.followers, \n",
    "             data['Avg View Through Rate'], \n",
    "             data['Avg Engagement Rate'], \n",
    "             c=kmeans_2.labels_.astype(float))\n",
    "plt.savefig('3d.pdf')"
   ]
  }
 ],
 "metadata": {
  "kernelspec": {
   "display_name": "Python 3",
   "language": "python",
   "name": "python3"
  },
  "language_info": {
   "codemirror_mode": {
    "name": "ipython",
    "version": 3
   },
   "file_extension": ".py",
   "mimetype": "text/x-python",
   "name": "python",
   "nbconvert_exporter": "python",
   "pygments_lexer": "ipython3",
   "version": "3.7.3"
  }
 },
 "nbformat": 4,
 "nbformat_minor": 2
}
