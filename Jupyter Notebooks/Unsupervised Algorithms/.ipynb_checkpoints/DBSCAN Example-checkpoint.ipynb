{
 "cells": [
  {
   "cell_type": "markdown",
   "metadata": {},
   "source": [
    "# DBSCAN\n",
    "Sometimes k-means can't gives bad results, or results that cannot be interpreted well.\n",
    "\n",
    "DBSCAN:\n",
    "1. Stands for 'density based spatial clustering of applications with noise'\n",
    "2. Does not require the user to set the number of clusters\n",
    "3. Capture clusters of complex shape\n",
    "4. Slower, but scales to relatively large datasets\n",
    "5. Works by identifying points that are in crowded regions of the feature space, where many data points are close together\n",
    "6. Pioints that are within a dense region are called _core samples_ \n",
    "7. There are two parameters in DBSCAN: min_samples & eps\n",
    "8. If there are at least min_samples many data points within a distance of eps to a given data point, that data point is classified as a core sample\n",
    "9. _core_ samples that are closer to each other than the distance eps are put into the same cluster by DBSCAN\n",
    "> The parameter eps is somewhat more important, as it determines what it means for points to be close. Setting eps to be very small will mean that no points are core samples, and may lead to all points being labeled as noise. Setting eps to be very large will result in all points forming a single cluster."
   ]
  },
  {
   "cell_type": "code",
   "execution_count": 3,
   "metadata": {},
   "outputs": [],
   "source": [
    "import pandas as pd\n",
    "import numpy as np\n",
    "import matplotlib.pyplot as plt\n",
    "%matplotlib inline\n",
    "from sklearn.cluster import DBSCAN"
   ]
  },
  {
   "cell_type": "code",
   "execution_count": 7,
   "metadata": {},
   "outputs": [
    {
     "data": {
      "text/html": [
       "<div>\n",
       "<style scoped>\n",
       "    .dataframe tbody tr th:only-of-type {\n",
       "        vertical-align: middle;\n",
       "    }\n",
       "\n",
       "    .dataframe tbody tr th {\n",
       "        vertical-align: top;\n",
       "    }\n",
       "\n",
       "    .dataframe thead th {\n",
       "        text-align: right;\n",
       "    }\n",
       "</style>\n",
       "<table border=\"1\" class=\"dataframe\">\n",
       "  <thead>\n",
       "    <tr style=\"text-align: right;\">\n",
       "      <th></th>\n",
       "      <th>Unnamed: 0</th>\n",
       "      <th>talentId</th>\n",
       "      <th>platformId</th>\n",
       "      <th>type</th>\n",
       "      <th>followers</th>\n",
       "      <th>Avg View Through Rate</th>\n",
       "      <th>Avg Engagement Rate</th>\n",
       "    </tr>\n",
       "  </thead>\n",
       "  <tbody>\n",
       "    <tr>\n",
       "      <th>0</th>\n",
       "      <td>13</td>\n",
       "      <td>0088a700-4144-4fd0-976c-bd9178414d6b</td>\n",
       "      <td>1.125563e+09</td>\n",
       "      <td>video</td>\n",
       "      <td>11399</td>\n",
       "      <td>1.20%</td>\n",
       "      <td>0.20%</td>\n",
       "    </tr>\n",
       "    <tr>\n",
       "      <th>1</th>\n",
       "      <td>15</td>\n",
       "      <td>02c592c7-106a-4d99-aca8-3b45724191e3</td>\n",
       "      <td>7.579333e+08</td>\n",
       "      <td>video</td>\n",
       "      <td>15147</td>\n",
       "      <td>3.58%</td>\n",
       "      <td>0.55%</td>\n",
       "    </tr>\n",
       "    <tr>\n",
       "      <th>2</th>\n",
       "      <td>17</td>\n",
       "      <td>042d2f1d-91c5-4115-ad02-e8a28e0cd383</td>\n",
       "      <td>2.242085e+08</td>\n",
       "      <td>video</td>\n",
       "      <td>13461</td>\n",
       "      <td>3.51%</td>\n",
       "      <td>1.05%</td>\n",
       "    </tr>\n",
       "    <tr>\n",
       "      <th>3</th>\n",
       "      <td>19</td>\n",
       "      <td>060c3a83-d443-4f60-aa65-9a939b9814be</td>\n",
       "      <td>3.086299e+08</td>\n",
       "      <td>video</td>\n",
       "      <td>7158</td>\n",
       "      <td>12.01%</td>\n",
       "      <td>3.19%</td>\n",
       "    </tr>\n",
       "    <tr>\n",
       "      <th>4</th>\n",
       "      <td>21</td>\n",
       "      <td>061a2922-8adb-4918-8789-56fdedf13993</td>\n",
       "      <td>1.491845e+09</td>\n",
       "      <td>video</td>\n",
       "      <td>14325</td>\n",
       "      <td>12.50%</td>\n",
       "      <td>1.84%</td>\n",
       "    </tr>\n",
       "  </tbody>\n",
       "</table>\n",
       "</div>"
      ],
      "text/plain": [
       "   Unnamed: 0                              talentId    platformId   type  \\\n",
       "0          13  0088a700-4144-4fd0-976c-bd9178414d6b  1.125563e+09  video   \n",
       "1          15  02c592c7-106a-4d99-aca8-3b45724191e3  7.579333e+08  video   \n",
       "2          17  042d2f1d-91c5-4115-ad02-e8a28e0cd383  2.242085e+08  video   \n",
       "3          19  060c3a83-d443-4f60-aa65-9a939b9814be  3.086299e+08  video   \n",
       "4          21  061a2922-8adb-4918-8789-56fdedf13993  1.491845e+09  video   \n",
       "\n",
       "   followers Avg View Through Rate Avg Engagement Rate  \n",
       "0      11399                 1.20%               0.20%  \n",
       "1      15147                 3.58%               0.55%  \n",
       "2      13461                 3.51%               1.05%  \n",
       "3       7158                12.01%               3.19%  \n",
       "4      14325                12.50%               1.84%  "
      ]
     },
     "execution_count": 7,
     "metadata": {},
     "output_type": "execute_result"
    }
   ],
   "source": [
    "# load data\n",
    "data = pd.read_csv('/Users/Hussein/Desktop/InstagramVideoDataScores.csv')\n",
    "data.head()"
   ]
  },
  {
   "cell_type": "code",
   "execution_count": 8,
   "metadata": {},
   "outputs": [
    {
     "data": {
      "text/html": [
       "<div>\n",
       "<style scoped>\n",
       "    .dataframe tbody tr th:only-of-type {\n",
       "        vertical-align: middle;\n",
       "    }\n",
       "\n",
       "    .dataframe tbody tr th {\n",
       "        vertical-align: top;\n",
       "    }\n",
       "\n",
       "    .dataframe thead th {\n",
       "        text-align: right;\n",
       "    }\n",
       "</style>\n",
       "<table border=\"1\" class=\"dataframe\">\n",
       "  <thead>\n",
       "    <tr style=\"text-align: right;\">\n",
       "      <th></th>\n",
       "      <th>followers</th>\n",
       "      <th>Avg View Through Rate</th>\n",
       "      <th>Avg Engagement Rate</th>\n",
       "    </tr>\n",
       "  </thead>\n",
       "  <tbody>\n",
       "    <tr>\n",
       "      <th>0</th>\n",
       "      <td>11399</td>\n",
       "      <td>1.20%</td>\n",
       "      <td>0.20%</td>\n",
       "    </tr>\n",
       "    <tr>\n",
       "      <th>1</th>\n",
       "      <td>15147</td>\n",
       "      <td>3.58%</td>\n",
       "      <td>0.55%</td>\n",
       "    </tr>\n",
       "    <tr>\n",
       "      <th>2</th>\n",
       "      <td>13461</td>\n",
       "      <td>3.51%</td>\n",
       "      <td>1.05%</td>\n",
       "    </tr>\n",
       "    <tr>\n",
       "      <th>3</th>\n",
       "      <td>7158</td>\n",
       "      <td>12.01%</td>\n",
       "      <td>3.19%</td>\n",
       "    </tr>\n",
       "    <tr>\n",
       "      <th>4</th>\n",
       "      <td>14325</td>\n",
       "      <td>12.50%</td>\n",
       "      <td>1.84%</td>\n",
       "    </tr>\n",
       "  </tbody>\n",
       "</table>\n",
       "</div>"
      ],
      "text/plain": [
       "   followers Avg View Through Rate Avg Engagement Rate\n",
       "0      11399                 1.20%               0.20%\n",
       "1      15147                 3.58%               0.55%\n",
       "2      13461                 3.51%               1.05%\n",
       "3       7158                12.01%               3.19%\n",
       "4      14325                12.50%               1.84%"
      ]
     },
     "execution_count": 8,
     "metadata": {},
     "output_type": "execute_result"
    }
   ],
   "source": [
    "data = data.drop(axis=1, columns=['Unnamed: 0', 'talentId', 'platformId', 'type'])\n",
    "data.head()"
   ]
  },
  {
   "cell_type": "code",
   "execution_count": 9,
   "metadata": {},
   "outputs": [
    {
     "data": {
      "text/html": [
       "<div>\n",
       "<style scoped>\n",
       "    .dataframe tbody tr th:only-of-type {\n",
       "        vertical-align: middle;\n",
       "    }\n",
       "\n",
       "    .dataframe tbody tr th {\n",
       "        vertical-align: top;\n",
       "    }\n",
       "\n",
       "    .dataframe thead th {\n",
       "        text-align: right;\n",
       "    }\n",
       "</style>\n",
       "<table border=\"1\" class=\"dataframe\">\n",
       "  <thead>\n",
       "    <tr style=\"text-align: right;\">\n",
       "      <th></th>\n",
       "      <th>followers</th>\n",
       "      <th>Avg View Through Rate</th>\n",
       "      <th>Avg Engagement Rate</th>\n",
       "    </tr>\n",
       "  </thead>\n",
       "  <tbody>\n",
       "    <tr>\n",
       "      <th>0</th>\n",
       "      <td>11399</td>\n",
       "      <td>1.20</td>\n",
       "      <td>0.20</td>\n",
       "    </tr>\n",
       "    <tr>\n",
       "      <th>1</th>\n",
       "      <td>15147</td>\n",
       "      <td>3.58</td>\n",
       "      <td>0.55</td>\n",
       "    </tr>\n",
       "    <tr>\n",
       "      <th>2</th>\n",
       "      <td>13461</td>\n",
       "      <td>3.51</td>\n",
       "      <td>1.05</td>\n",
       "    </tr>\n",
       "    <tr>\n",
       "      <th>3</th>\n",
       "      <td>7158</td>\n",
       "      <td>12.01</td>\n",
       "      <td>3.19</td>\n",
       "    </tr>\n",
       "    <tr>\n",
       "      <th>4</th>\n",
       "      <td>14325</td>\n",
       "      <td>12.50</td>\n",
       "      <td>1.84</td>\n",
       "    </tr>\n",
       "  </tbody>\n",
       "</table>\n",
       "</div>"
      ],
      "text/plain": [
       "   followers Avg View Through Rate Avg Engagement Rate\n",
       "0      11399                  1.20                0.20\n",
       "1      15147                  3.58                0.55\n",
       "2      13461                  3.51                1.05\n",
       "3       7158                 12.01                3.19\n",
       "4      14325                 12.50                1.84"
      ]
     },
     "execution_count": 9,
     "metadata": {},
     "output_type": "execute_result"
    }
   ],
   "source": [
    "data['Avg View Through Rate'] = [x.strip('%') for x in data['Avg View Through Rate']]\n",
    "data['Avg Engagement Rate'] = [x.strip('%') for x in data['Avg Engagement Rate']]\n",
    "data.head()"
   ]
  },
  {
   "cell_type": "code",
   "execution_count": 10,
   "metadata": {},
   "outputs": [
    {
     "data": {
      "text/html": [
       "<div>\n",
       "<style scoped>\n",
       "    .dataframe tbody tr th:only-of-type {\n",
       "        vertical-align: middle;\n",
       "    }\n",
       "\n",
       "    .dataframe tbody tr th {\n",
       "        vertical-align: top;\n",
       "    }\n",
       "\n",
       "    .dataframe thead th {\n",
       "        text-align: right;\n",
       "    }\n",
       "</style>\n",
       "<table border=\"1\" class=\"dataframe\">\n",
       "  <thead>\n",
       "    <tr style=\"text-align: right;\">\n",
       "      <th></th>\n",
       "      <th>followers</th>\n",
       "      <th>Avg View Through Rate</th>\n",
       "      <th>Avg Engagement Rate</th>\n",
       "    </tr>\n",
       "  </thead>\n",
       "  <tbody>\n",
       "    <tr>\n",
       "      <th>0</th>\n",
       "      <td>11399</td>\n",
       "      <td>1.20</td>\n",
       "      <td>0.20</td>\n",
       "    </tr>\n",
       "    <tr>\n",
       "      <th>1</th>\n",
       "      <td>15147</td>\n",
       "      <td>3.58</td>\n",
       "      <td>0.55</td>\n",
       "    </tr>\n",
       "    <tr>\n",
       "      <th>2</th>\n",
       "      <td>13461</td>\n",
       "      <td>3.51</td>\n",
       "      <td>1.05</td>\n",
       "    </tr>\n",
       "    <tr>\n",
       "      <th>3</th>\n",
       "      <td>7158</td>\n",
       "      <td>12.01</td>\n",
       "      <td>3.19</td>\n",
       "    </tr>\n",
       "    <tr>\n",
       "      <th>4</th>\n",
       "      <td>14325</td>\n",
       "      <td>12.50</td>\n",
       "      <td>1.84</td>\n",
       "    </tr>\n",
       "  </tbody>\n",
       "</table>\n",
       "</div>"
      ],
      "text/plain": [
       "   followers  Avg View Through Rate  Avg Engagement Rate\n",
       "0      11399                   1.20                 0.20\n",
       "1      15147                   3.58                 0.55\n",
       "2      13461                   3.51                 1.05\n",
       "3       7158                  12.01                 3.19\n",
       "4      14325                  12.50                 1.84"
      ]
     },
     "execution_count": 10,
     "metadata": {},
     "output_type": "execute_result"
    }
   ],
   "source": [
    "data['Avg View Through Rate'] = pd.to_numeric(data['Avg View Through Rate'])\n",
    "data['Avg Engagement Rate'] = pd.to_numeric(data['Avg Engagement Rate'])\n",
    "data.head()"
   ]
  },
  {
   "cell_type": "code",
   "execution_count": 11,
   "metadata": {},
   "outputs": [],
   "source": [
    "data = data.loc[(data['followers'] <= 1000000)]\n",
    "data = data.loc[(data['Avg View Through Rate'] <= 300)]"
   ]
  },
  {
   "cell_type": "code",
   "execution_count": 13,
   "metadata": {},
   "outputs": [
    {
     "name": "stdout",
     "output_type": "stream",
     "text": [
      "(2087, 3)\n"
     ]
    },
    {
     "data": {
      "text/html": [
       "<div>\n",
       "<style scoped>\n",
       "    .dataframe tbody tr th:only-of-type {\n",
       "        vertical-align: middle;\n",
       "    }\n",
       "\n",
       "    .dataframe tbody tr th {\n",
       "        vertical-align: top;\n",
       "    }\n",
       "\n",
       "    .dataframe thead th {\n",
       "        text-align: right;\n",
       "    }\n",
       "</style>\n",
       "<table border=\"1\" class=\"dataframe\">\n",
       "  <thead>\n",
       "    <tr style=\"text-align: right;\">\n",
       "      <th></th>\n",
       "      <th>followers</th>\n",
       "      <th>Avg View Through Rate</th>\n",
       "      <th>Avg Engagement Rate</th>\n",
       "    </tr>\n",
       "  </thead>\n",
       "  <tbody>\n",
       "    <tr>\n",
       "      <th>0</th>\n",
       "      <td>11399</td>\n",
       "      <td>1.20</td>\n",
       "      <td>0.20</td>\n",
       "    </tr>\n",
       "    <tr>\n",
       "      <th>1</th>\n",
       "      <td>15147</td>\n",
       "      <td>3.58</td>\n",
       "      <td>0.55</td>\n",
       "    </tr>\n",
       "    <tr>\n",
       "      <th>2</th>\n",
       "      <td>13461</td>\n",
       "      <td>3.51</td>\n",
       "      <td>1.05</td>\n",
       "    </tr>\n",
       "    <tr>\n",
       "      <th>3</th>\n",
       "      <td>7158</td>\n",
       "      <td>12.01</td>\n",
       "      <td>3.19</td>\n",
       "    </tr>\n",
       "    <tr>\n",
       "      <th>4</th>\n",
       "      <td>14325</td>\n",
       "      <td>12.50</td>\n",
       "      <td>1.84</td>\n",
       "    </tr>\n",
       "  </tbody>\n",
       "</table>\n",
       "</div>"
      ],
      "text/plain": [
       "   followers  Avg View Through Rate  Avg Engagement Rate\n",
       "0      11399                   1.20                 0.20\n",
       "1      15147                   3.58                 0.55\n",
       "2      13461                   3.51                 1.05\n",
       "3       7158                  12.01                 3.19\n",
       "4      14325                  12.50                 1.84"
      ]
     },
     "execution_count": 13,
     "metadata": {},
     "output_type": "execute_result"
    }
   ],
   "source": [
    "print(data.shape)\n",
    "data.head()"
   ]
  },
  {
   "cell_type": "code",
   "execution_count": 109,
   "metadata": {},
   "outputs": [
    {
     "name": "stdout",
     "output_type": "stream",
     "text": [
      "{0, 1, 2, 3, 4, -1}\n",
      "[0 0 0 ... 0 0 0]\n",
      "Estimated number of clusters: 5\n"
     ]
    },
    {
     "data": {
      "image/png": "[encoded data removed]",
      "text/plain": [
       "<Figure size 432x288 with 1 Axes>"
      ]
     },
     "metadata": {
      "needs_background": "light"
     },
     "output_type": "display_data"
    }
   ],
   "source": [
    "from sklearn.preprocessing import StandardScaler\n",
    "from sklearn import metrics\n",
    "import warnings; warnings.simplefilter('ignore')\n",
    "scaler = StandardScaler()\n",
    "data_scaled = scaler.fit_transform(data)\n",
    "\n",
    "dbscan = DBSCAN(eps=0.6, min_samples=4)\n",
    "clusters = dbscan.fit_predict(data_scaled)\n",
    "\n",
    "# plot\n",
    "plt.scatter(data.followers, data['Avg Engagement Rate'], c=clusters, s=50)\n",
    "plt.xlabel('Number of followers')\n",
    "plt.ylabel('Avg Engagement Rate')\n",
    "\n",
    "labels = dbscan.labels_\n",
    "print(set(labels))\n",
    "print(clusters)\n",
    "# # Number of clusters in labels, ignoring noise if present.\n",
    "n_clusters_ = len(set(labels)) - (1 if -1 in labels else 0)\n",
    "# n_noise_ = list(labels).count(-1)\n",
    "print('Estimated number of clusters: %d' % n_clusters_)\n",
    "# print('Estimated number of noise points: %d' % n_noise_)\n",
    "# print(\"Silhouette Coefficient: %0.3f\"\n",
    "#       % metrics.silhouette_score(data, labels))\n",
    "# its good to choose lower eps and min_samples > D + 1"
   ]
  },
  {
   "cell_type": "code",
   "execution_count": 110,
   "metadata": {},
   "outputs": [
    {
     "data": {
      "text/plain": [
       "Text(0, 0.5, 'Avg View Through Rate')"
      ]
     },
     "execution_count": 110,
     "metadata": {},
     "output_type": "execute_result"
    },
    {
     "data": {
      "image/png": "[encoded data removed]",
      "text/plain": [
       "<Figure size 432x288 with 1 Axes>"
      ]
     },
     "metadata": {
      "needs_background": "light"
     },
     "output_type": "display_data"
    }
   ],
   "source": [
    "# plot\n",
    "plt.scatter(data.followers, data['Avg View Through Rate'], c=clusters, cmap='plasma')\n",
    "plt.xlabel('Number of followers')\n",
    "plt.ylabel('Avg View Through Rate')"
   ]
  },
  {
   "cell_type": "code",
   "execution_count": null,
   "metadata": {},
   "outputs": [],
   "source": []
  }
 ],
 "metadata": {
  "kernelspec": {
   "display_name": "Python 3",
   "language": "python",
   "name": "python3"
  },
  "language_info": {
   "codemirror_mode": {
    "name": "ipython",
    "version": 3
   },
   "file_extension": ".py",
   "mimetype": "text/x-python",
   "name": "python",
   "nbconvert_exporter": "python",
   "pygments_lexer": "ipython3",
   "version": "3.7.3"
  }
 },
 "nbformat": 4,
 "nbformat_minor": 2
}
